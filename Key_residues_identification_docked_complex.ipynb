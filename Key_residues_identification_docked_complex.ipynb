{
  "nbformat": 4,
  "nbformat_minor": 0,
  "metadata": {
    "colab": {
      "provenance": [],
      "authorship_tag": "ABX9TyOCPzxgye/bL+vA6eAJ5gcq",
      "include_colab_link": true
    },
    "kernelspec": {
      "name": "python3",
      "display_name": "Python 3"
    },
    "language_info": {
      "name": "python"
    }
  },
  "cells": [
    {
      "cell_type": "markdown",
      "metadata": {
        "id": "view-in-github",
        "colab_type": "text"
      },
      "source": [
        "<a href=\"https://colab.research.google.com/github/deepsharma26/SIRT-isoform_selective-/blob/main/Key_residues_identification_docked_complex.ipynb\" target=\"_parent\"><img src=\"https://colab.research.google.com/assets/colab-badge.svg\" alt=\"Open In Colab\"/></a>"
      ]
    },
    {
      "cell_type": "markdown",
      "source": [
        "#Key residues idenfication in docked complexes\n"
      ],
      "metadata": {
        "id": "KkEktO2252uh"
      }
    },
    {
      "cell_type": "markdown",
      "source": [
        "An in-house Python script by which we were able to identify the occurrence count of the key residues in at least 50 % of the compounds against one SIRT isoform.\n",
        "The outcome of the occurrence count of the key residues has been provided in each case with annotation as Residue number (occurrence in number of compounds). For example, His363 (13) means that His363 interaction was observed in 13 compounds out of 15 compounds. This scrit is for SIRT7 docked compex data."
      ],
      "metadata": {
        "id": "YLGS145I6QwR"
      }
    },
    {
      "cell_type": "code",
      "execution_count": 5,
      "metadata": {
        "colab": {
          "base_uri": "https://localhost:8080/"
        },
        "id": "72M80-Pn4lqT",
        "outputId": "045ae219-efa9-4215-baa8-02cea73fb1c7"
      },
      "outputs": [
        {
          "output_type": "stream",
          "name": "stdout",
          "text": [
            "   Residue  Occurrence Count  \\\n",
            "0   Asn221                12   \n",
            "1    Arg27                 8   \n",
            "2   Lys356                 8   \n",
            "3   Arg305                11   \n",
            "4   Tyr161                13   \n",
            "5   Lys329                 4   \n",
            "6   Trp309                13   \n",
            "7   Glu260                 9   \n",
            "8   Tyr216                15   \n",
            "9   Asp330                 3   \n",
            "10  Asn359                10   \n",
            "11  Phe215                12   \n",
            "12  Asp357                13   \n",
            "13  Glu218                14   \n",
            "14  Glu327                 7   \n",
            "15  Trp141                12   \n",
            "16  Gly111                 2   \n",
            "17  Leu109                 1   \n",
            "18  Ala308                11   \n",
            "19   Met41                 9   \n",
            "20  Gly358                 4   \n",
            "21   Trp31                 7   \n",
            "22  Asp306                 9   \n",
            "23  Asn137                 1   \n",
            "24  Ser160                 4   \n",
            "25  Glu157                 1   \n",
            "26  Pro217                 3   \n",
            "27   Trp61                 1   \n",
            "28  Asp162                 3   \n",
            "29  Gln219                 2   \n",
            "30  Leu328                 1   \n",
            "31  Lys256                 1   \n",
            "\n",
            "                                            Compounds  \n",
            "0   SirReal2, Sirtinol, Aristoforin, HR-73, AGK2, ...  \n",
            "1   Sirtinol, AGK2, Salermide, Cambinol, AK-7, Ina...  \n",
            "2   Sirtinol, Salermide, Cambinol, Inauhzin, AC932...  \n",
            "3   SirReal2, Sirtinol, HR-73, AGK2, Tenovin-1 , S...  \n",
            "4   SirReal2, Sirtinol, Aristoforin, HR-73, AGK2, ...  \n",
            "5           SirReal2, Aristoforin, Inauhzin, Sirtinol  \n",
            "6   SirReal2, Sirtinol, Aristoforin, HR-73, AGK2, ...  \n",
            "7   Sirtinol, AGK2, Salermide, AK-7, Inauhzin, AC9...  \n",
            "8   SirReal2, Sirtinol, Aristoforin, HR-73, AGK2, ...  \n",
            "9                     SirReal2, Aristoforin, Sirtinol  \n",
            "10  SirReal2, Sirtinol, Aristoforin, AGK2, Salermi...  \n",
            "11  SirReal2, Sirtinol, Aristoforin, HR-73, AGK2, ...  \n",
            "12  SirReal2, Sirtinol, Aristoforin, HR-73, AGK2, ...  \n",
            "13  SirReal2, Sirtinol, Aristoforin, HR-73, AGK2, ...  \n",
            "14  SirReal2, Sirtinol, Aristoforin, Cambinol, AK-...  \n",
            "15  SirReal2, Sirtinol, Aristoforin, HR-73, AGK2, ...  \n",
            "16                           EX527 (Selisistat), AGK2  \n",
            "17                                 EX527 (Selisistat)  \n",
            "18  SirReal2, AGK2, Tenovin-1 , Salermide, Cambino...  \n",
            "19  SirReal2, AGK2, Tenovin-1 , Salermide, AC9325,...  \n",
            "20      Tenovin-1 , Aristoforin, Tenovin-6, Salermide  \n",
            "21  SirReal2, HR-73, Tenovin-1 , Salermide, AC9325...  \n",
            "22  SirReal2, HR-73, AGK2, Tenovin-1 , Salermide, ...  \n",
            "23                                          Tenovin-6  \n",
            "24            Salermide, Aristoforin, Tenovin-6, AGK2  \n",
            "25                                          Tenovin-6  \n",
            "26                            AC9325, Tenovin-6, AGK2  \n",
            "27                                               AGK2  \n",
            "28                    Aristoforin, Cambinol, Inauhzin  \n",
            "29                              Aristoforin, Inauhzin  \n",
            "30                                           Inauhzin  \n",
            "31                                               AK-7  \n"
          ]
        }
      ],
      "source": [
        "import pandas as pd\n",
        "import re\n",
        "from collections import defaultdict\n",
        "\n",
        "# Load the Excel file into a pandas DataFrame\n",
        "df = pd.read_excel('Trail.xlsx')\n",
        "\n",
        "# Clean up column names by stripping any leading/trailing spaces\n",
        "df.columns = df.columns.str.strip()\n",
        "\n",
        "# Define the function to extract residues from the 'Interaction' column\n",
        "def extract_residues(interaction_str):\n",
        "    residues = re.findall(r'[A-Za-z]{3}\\s?\\d+', interaction_str)\n",
        "    cleaned_residues = {res.replace(' ', '') for res in residues}\n",
        "    return cleaned_residues\n",
        "\n",
        "# Apply the extraction function to the 'Interaction' column\n",
        "df['Residues'] = df['Interaction'].apply(extract_residues)\n",
        "\n",
        "# Initialize a dictionary to count occurrences and store which compounds contain each residue\n",
        "residue_info = defaultdict(lambda: {\"count\": 0, \"compounds\": set()})\n",
        "\n",
        "# Iterate over the DataFrame to populate residue_info with occurrences and compound names\n",
        "for idx, row in df.iterrows():\n",
        "    compound_name = row['Compound Name']\n",
        "    residues = row['Residues']\n",
        "\n",
        "    # For each residue, update the count and track which compounds contain it\n",
        "    for residue in residues:\n",
        "        residue_info[residue]['count'] += 1\n",
        "        residue_info[residue]['compounds'].add(compound_name)\n",
        "\n",
        "# Convert the residue_info to a DataFrame for easier viewing\n",
        "residue_summary = pd.DataFrame(\n",
        "    [(residue, info['count'], ', '.join(info['compounds'])) for residue, info in residue_info.items()],\n",
        "    columns=['Residue', 'Occurrence Count', 'Compounds']\n",
        ")\n",
        "\n",
        "# Display the result\n",
        "print(residue_summary)\n",
        "\n",
        "# Optional: Save the result to an Excel file\n",
        "residue_summary.to_excel('residue_summary.xlsx', index=False)\n"
      ]
    }
  ]
}